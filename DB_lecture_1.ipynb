{
  "nbformat": 4,
  "nbformat_minor": 0,
  "metadata": {
    "colab": {
      "provenance": [],
      "collapsed_sections": [],
      "authorship_tag": "ABX9TyNmRKnuzHDVlxEdwSaA+3lW",
      "include_colab_link": true
    },
    "kernelspec": {
      "name": "python3",
      "display_name": "Python 3"
    },
    "language_info": {
      "name": "python"
    }
  },
  "cells": [
    {
      "cell_type": "markdown",
      "metadata": {
        "id": "view-in-github",
        "colab_type": "text"
      },
      "source": [
        "<a href=\"https://colab.research.google.com/github/fbeilstein/dbms/blob/master/DB_lecture_1.ipynb\" target=\"_parent\"><img src=\"https://colab.research.google.com/assets/colab-badge.svg\" alt=\"Open In Colab\"/></a>"
      ]
    },
    {
      "cell_type": "markdown",
      "source": [
        "* The primary job of any **database management system** (DBMS) is reliably storing data and making it available for users.\n",
        "\n",
        "* We use DBs so we can concentrate on application logic instead of infrastructure.\n",
        "\n"
      ],
      "metadata": {
        "id": "rMteRuZk05Bt"
      }
    },
    {
      "cell_type": "markdown",
      "source": [
        "The **storage engine** (or database engine) is a software component of a database management system responsible for storing, retrieving, and managing data in memory and on disk, designed to capture a persistent, long-term memory of each node.\n",
        "\n",
        "* Databases respond to complex queries, storage engines look at\n",
        "the data more granularly (simple API: create, update, delete, and retrieve records).\n",
        "\n",
        "* Both keys and values can be arbitrary sequences of bytes with no prescribed form. Their sorting and representation semantics are defined in higher-level\n",
        "subsystems. \n",
        "\n",
        "* DBMS can switch engines\n",
        "  - MySQL (table-structured): InnoDB, MyISAM, and RocksDB, etc. \n",
        "  - MongoDB [(document-based](https://en.wikipedia.org/wiki/Document-oriented_database)): WiredTiger, In-Memory, MMAPv1, etc."
      ],
      "metadata": {
        "id": "vP-WBBJY2HO9"
      }
    },
    {
      "cell_type": "markdown",
      "source": [
        "choose DB\n",
        "\n",
        "* emulate workload\n",
        "* [Yahoo! Cloud Serving Benchmark](https://en.wikipedia.org/wiki/YCSB#:~:text=The%20Yahoo!,of%20NoSQL%20database%20management%20systems.)\n",
        "* TPC-C Benchmark (focuses on throughput and ACID)"
      ],
      "metadata": {
        "id": "I9_pIB5t7kg9"
      }
    },
    {
      "cell_type": "markdown",
      "source": [
        "**throughput**: the number of transactions the database system is able to process per minute.\n",
        "\n",
        "ACID properties of transactions\n",
        "\n",
        "* **Atomicity** All changes to data are performed as if they are a single operation. That is, all the changes are performed, or none of them are.\n",
        "For example, in an application that transfers funds from one account to another, the atomicity property ensures that, if a debit is made successfully from one account, the corresponding credit is made to the other account.\n",
        "* **Consistency** Data is in a consistent state when a transaction starts and when it ends. For example, in an application that transfers funds from one account to another, the consistency property ensures that the total value of funds in both the accounts is the same at the start and end of each transaction.\n",
        "* **Isolation** The intermediate state of a transaction is invisible to other transactions. As a result, transactions that run concurrently appear to be serialized. For example, in an application that transfers funds from one account to another, the isolation property ensures that another transaction sees the transferred funds in one account or the other, but not in both, nor in neither.\n",
        "* **Durability** After a transaction successfully completes, changes to data persist and are not undone, even in the event of a system failure.\n",
        "For example, in an application that transfers funds from one account to another, the durability property ensures that the changes made to each account will not be reversed."
      ],
      "metadata": {
        "id": "L_AHmP507375"
      }
    },
    {
      "cell_type": "markdown",
      "source": [
        "**DB architecture article**\n",
        "\n",
        "Hellerstein, Joseph M., Michael Stonebraker, and James Hamilton. 2007. \"Architecture of a Database System.\" Foundations and Trends in\n",
        "Databases 1, no. 2 (February): 141-259. https://doi.org/10.1561/1900000002."
      ],
      "metadata": {
        "id": "w_xj1Y5T9yhN"
      }
    },
    {
      "cell_type": "markdown",
      "source": [
        "DBMS use a **client/server model**: DB instances (**nodes**) = servers, applications = **clients**.\n",
        "\n",
        "\n",
        "Communication through the **transport subsystem**. Requests come in the form of some query language.\n",
        "\n",
        "Query -> **query processor** (parse, interpret, validate) -> **query optimizer** (use statistics, ordering, choose access methods) -> **execution plan** -> **execution engine** (local queries are executed by the **storage engine**) -> Result"
      ],
      "metadata": {
        "id": "W-CfSH-f-a8z"
      }
    },
    {
      "cell_type": "markdown",
      "source": [
        "**Storage engine** components:\n",
        "\n",
        "* **Transaction manager** This manager schedules transactions and ensures they cannot leave the database in a logically inconsistent state.\n",
        "* **Lock manager** This manager locks on the database objects for the running transactions, ensuring that concurrent operations do not violate physical data integrity.\n",
        "* **Access methods** (storage structures) These manage access and organizing data on disk. Access methods include heap files and storage structures such as B-Trees or LSM Trees.\n",
        "* **Buffer manager** This manager caches data pages in memor.\n",
        "* **Recovery manager** This manager maintains the operation log and restoring the system state in case of a failure.\n",
        "\n",
        "\n",
        "Together, **transaction** and **lock** managers are responsible for concurrency control."
      ],
      "metadata": {
        "id": "tEBjfdWmAXIR"
      }
    },
    {
      "cell_type": "markdown",
      "source": [
        "**In-memory database management systems** (sometimes called main memory DBMS) store data primarily in memory and use the disk for recovery and logging. \n",
        "\n",
        "**Disk-based DBMS** hold most of the data on disk and use memory for caching disk contents or as a temporary storage. "
      ],
      "metadata": {
        "id": "G6kFDW0ZYSaV"
      }
    },
    {
      "cell_type": "markdown",
      "source": [
        "During recovery, database contents can be restored from the backup and\n",
        "logs. Log records are usually applied to backup in batches. After the batch of log records is processed, backup holds a database **snapshot** for a specific point in time, and log contents up to this point can be discarded. This process is called **checkpointing**."
      ],
      "metadata": {
        "id": "Yqawnz0WYr2h"
      }
    },
    {
      "cell_type": "markdown",
      "source": [
        "Most database systems store a set of **data records**, consisting of **columns** and **rows** in **tables**. **Field** is an intersection of a column and a row: a single value of some type. Fields belonging to the same column usually have the same data type. A collection of values that belong logically to the same record (usually identified by the key) constitutes a row. Data is stored on disk: **row-** or **column-**wise. \n",
        "\n",
        "* **Row-oriented**: MySQL, PostgreSQL, and most of the traditional relational databases. \n",
        "* **Column-oriented**: MonetDB, C-Store (predecessor to Vertica),  Apache Kudu, ClickHouse.\n",
        "\n",
        "**Column-oriented** databases should not be mixed up with **wide column stores**, where data is represented as a multidimensional map, columns are grouped into column families (usually storing data of the same type), and inside each column family, data is stored row-wise. Physical layout is somewhat different from the conceptual representation: column families are stored separately, but in each column family, the data belonging to the same key is stored together. This layout is best for storing data retrieved by a key or a sequence of keys. **Examples**: BigTable or HBase\n"
      ],
      "metadata": {
        "id": "nP5z7B1KZV-0"
      }
    },
    {
      "cell_type": "markdown",
      "source": [
        "Database systems do use files for storing the data, but instead of relying on filesystem hierarchies of directories and files for locating records, they compose files using implementation-specific formats. "
      ],
      "metadata": {
        "id": "5aeNjTh1wvAV"
      }
    },
    {
      "cell_type": "markdown",
      "source": [
        "Database systems store **data records**, consisting of multiple fields, in tables, where each table is usually represented as a separate file. \n",
        "\n",
        "Each record in the table can be looked up using a **search key**. \n",
        "\n",
        "To locate a record, database systems use **indexes**: auxiliary data structures that allow it to efficiently locate data records without scanning an entire table on every access."
      ],
      "metadata": {
        "id": "gh2UDRBNXIQK"
      }
    },
    {
      "cell_type": "markdown",
      "source": [
        "A database system usually separates **data files** and **index files**.\n",
        "\n",
        "Files are partitioned into **pages**, which typically have the size of a single or multiple disk blocks. Pages can be organized as sequences of records or as  **slotted pages**.\n",
        "\n",
        "Most modern storage systems do not delete data from pages explicitly, but use **tombstones**. \n",
        "\n",
        "Space occupied by the records **shadowed** by their updates or deletion markers is reclaimed during garbage collection"
      ],
      "metadata": {
        "id": "Re6U6virYpGP"
      }
    },
    {
      "cell_type": "markdown",
      "source": [
        "**Data files** (sometimes called primary files) \n",
        "\n",
        "* **index-organized tables (IOT)**\n",
        "Records are not required to follow any particular order (they often use write order, easy data append),stored in the index itself in key order (fast range scans). It reduces disk seeks because we do not have to address a separate file.\n",
        "\n",
        "* **heap-organized tables (heap files)**\n",
        "require additional index structures, pointing to the locations where data records are stored, to make them searchable.\n",
        "Store data records in the index itself.\n",
        "\n",
        "* **hash-organized tables (hashed files)**\n",
        "Records are stored in buckets (append order or sorted by key), and the hash value of the key determines which bucket a record belongs to.\n",
        "\n",
        "\n",
        "When index is stored separately it shoud contain **data entries** with enough information to locate record in data file.\n",
        "\n",
        "\n",
        "* **file offsets** (sometimes called **row locators**)\n",
        "* locations of data records in the data file\n",
        "*  **bucket IDs** in the case of hash files"
      ],
      "metadata": {
        "id": "2pns9D6Agooe"
      }
    },
    {
      "cell_type": "markdown",
      "source": [
        "**Index files**\n",
        "\n",
        "An **index** is a structure that organizes data records on disk in a way that facilitates efficient retrieval operations. **Index files** are organized as specialized structures that map keys to locations in data files\n",
        "* heap files -> records identified by these keys\n",
        "* IOT -> primary keys\n",
        "\n",
        "An index on a primary (data) file is called the **primary index**, other indexes are called **secondary**.\n",
        "**Primary index files** hold a unique entry per search key, **secondary indexes** may hold several entries per search key. Multiple secondary indexes can point to the same record.\n",
        "\n",
        "If the order of data records follows the search key order, this index is called **clustered** (also known as clustering), othewise **non-clustered** (**unclustered**). Data records in the clustered case are usually stored in the same file or in a clustered file, where the key order is preserved. \n",
        "\n",
        "Some engines have implicit primary key (e.g. MySQL InnoDB adds a new auto-increment column and fills in its values automatically).\n",
        "\n",
        "Primary indexes are most often clustered, secondary -- non-clustered.\n"
      ],
      "metadata": {
        "id": "WxJL-7w3EWuH"
      }
    },
    {
      "cell_type": "markdown",
      "source": [
        "Two approaches to referencing\n",
        "\n",
        "\n",
        "* Two indexes reference data entries directly from secondary index files.\n",
        "* A secondary index goes through the indirection layer of a primary index to\n",
        "locate the data entries"
      ],
      "metadata": {
        "id": "wGAuuH3MRfJ9"
      }
    },
    {
      "cell_type": "markdown",
      "source": [
        "**Buffering, Immutability, and Ordering**\n",
        "\n",
        "Storage structures have three common variables, you should choose:\n",
        "* buffering or avoid using it \n",
        "* immutable or mutable files\n",
        "* store values in order or out of order. \n",
        "\n",
        "\n",
        "**Buffering**\n",
        "This defines whether or not the storage structure chooses to collect a certain\n",
        "amount of data in memory before putting it on disk (avoidable buffering, not system-wide). \n",
        "**Methods**: Lazy B-Trees (B-Tree + in-memory buffers), two-component LSM Trees (different buffering + immutability)\n",
        "\n",
        "\n",
        "**Mutability (or immutability)**\n",
        "This defines whether or not the storage structure reads parts of the file, updates them, and writes the updated results at the same location in the file. Immutable structures are append-only.\n",
        "**Methods**: copy-on-write (the updated page is written to the new location in the file, instead of its original location), LSM (immutable) and B-Trees (in-place update), Bw-Tree (immutable).\n",
        "\n",
        "\n",
        "**Ordering**\n",
        "This is defined as whether or not the data records are stored in the key order in the pages on disk. Ordering often defines whether or not we can efficiently\n",
        "scan the range of records, not only locate the individual data records. Storing data out of order (most often, in insertion order) opens up for some write-time optimizations.\n",
        "**Methods**: Bitcask, WiscKey (store data records directly in append-only files)"
      ],
      "metadata": {
        "id": "ULYrshgER-lq"
      }
    },
    {
      "cell_type": "code",
      "source": [
        "# LSM Trees\n",
        "https://www.youtube.com/watch?v=oUNjDHYFES8\n",
        "# Write Amplification\n",
        "https://en.wikipedia.org/wiki/Write_amplification\n"
      ],
      "metadata": {
        "id": "bDzFIecPH9Vg"
      },
      "execution_count": null,
      "outputs": []
    }
  ]
}